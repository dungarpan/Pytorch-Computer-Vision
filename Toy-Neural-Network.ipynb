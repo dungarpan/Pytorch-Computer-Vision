{
 "cells": [
  {
   "cell_type": "code",
   "execution_count": 1,
   "id": "b8447a3e",
   "metadata": {},
   "outputs": [],
   "source": [
    "import torch\n",
    "x = [[1,2],[3,4],[5,6],[7,8]]\n",
    "y = [[3],[7],[11],[15]]"
   ]
  },
  {
   "cell_type": "code",
   "execution_count": 2,
   "id": "f81ba2d1",
   "metadata": {},
   "outputs": [
    {
     "name": "stdout",
     "output_type": "stream",
     "text": [
      "test\n"
     ]
    }
   ],
   "source": [
    "print(\"test\")"
   ]
  },
  {
   "cell_type": "code",
   "execution_count": 3,
   "id": "744c9ce1",
   "metadata": {},
   "outputs": [],
   "source": [
    "X = torch.rand(1000,5)\n",
    "Y = torch.rand(1000)"
   ]
  },
  {
   "cell_type": "code",
   "execution_count": 4,
   "id": "87dc23dc",
   "metadata": {},
   "outputs": [
    {
     "name": "stdout",
     "output_type": "stream",
     "text": [
      "cuda\n"
     ]
    }
   ],
   "source": [
    "device = 'cuda' if torch.cuda.is_available() else 'cpu'\n",
    "print(device)"
   ]
  },
  {
   "cell_type": "code",
   "execution_count": 5,
   "id": "36e3272d",
   "metadata": {},
   "outputs": [],
   "source": [
    "X = X.to(device)\n",
    "Y = Y.to(device)"
   ]
  },
  {
   "cell_type": "code",
   "execution_count": 6,
   "id": "7e410a18",
   "metadata": {},
   "outputs": [],
   "source": [
    "import torch.nn as nn\n",
    "\n",
    "class MyNeuralNet(nn.Module):\n",
    "    def __init__(self):\n",
    "        super().__init__()   # we are now able to take advantage of all the pre-built functionalities that have been written for nn.Module.\n",
    "        self.input_to_hidden_layer = nn.Linear(5,100)\n",
    "        self.hidden_layer_activation = nn.ReLU()\n",
    "        self.hidden_layer_2 = nn.Linear(100,100)\n",
    "        self.hidden_layer_2_activation = nn.ReLU()\n",
    "        self.hidden_to_output_layer = nn.Linear(100,1)\n",
    "    def forward(self, x):\n",
    "        x = self.input_to_hidden_layer(x)\n",
    "        x = self.hidden_layer_activation(x)\n",
    "        x = self.hidden_layer_2(x)\n",
    "        x = self.hidden_layer_2_activation(x)\n",
    "        x = self.hidden_to_output_layer(x)\n",
    "        return x"
   ]
  },
  {
   "cell_type": "code",
   "execution_count": 7,
   "id": "65e7fe3b",
   "metadata": {},
   "outputs": [],
   "source": [
    "mynet = MyNeuralNet().to(device)"
   ]
  },
  {
   "cell_type": "code",
   "execution_count": 8,
   "id": "c21990eb",
   "metadata": {},
   "outputs": [],
   "source": [
    "loss_func = nn.MSELoss()"
   ]
  },
  {
   "cell_type": "code",
   "execution_count": 9,
   "id": "5a000680",
   "metadata": {},
   "outputs": [
    {
     "name": "stdout",
     "output_type": "stream",
     "text": [
      "tensor(0.3743, device='cuda:0', grad_fn=<MseLossBackward0>)\n"
     ]
    },
    {
     "name": "stderr",
     "output_type": "stream",
     "text": [
      "C:\\Users\\dunga\\AppData\\Roaming\\Python\\Python311\\site-packages\\torch\\nn\\modules\\loss.py:535: UserWarning: Using a target size (torch.Size([1000])) that is different to the input size (torch.Size([1000, 1])). This will likely lead to incorrect results due to broadcasting. Please ensure they have the same size.\n",
      "  return F.mse_loss(input, target, reduction=self.reduction)\n"
     ]
    }
   ],
   "source": [
    "_Y = mynet(X)\n",
    "loss_value = loss_func(_Y,Y)\n",
    "print(loss_value)"
   ]
  },
  {
   "cell_type": "code",
   "execution_count": 10,
   "id": "c07c0955",
   "metadata": {},
   "outputs": [
    {
     "name": "stderr",
     "output_type": "stream",
     "text": [
      "C:\\Users\\dunga\\AppData\\Roaming\\Python\\Python311\\site-packages\\tqdm\\auto.py:21: TqdmWarning: IProgress not found. Please update jupyter and ipywidgets. See https://ipywidgets.readthedocs.io/en/stable/user_install.html\n",
      "  from .autonotebook import tqdm as notebook_tqdm\n"
     ]
    }
   ],
   "source": [
    "from torch.optim import SGD\n",
    "opt = SGD(mynet.parameters(), lr = 0.001)"
   ]
  },
  {
   "cell_type": "code",
   "execution_count": 11,
   "id": "99323ba9",
   "metadata": {},
   "outputs": [
    {
     "name": "stderr",
     "output_type": "stream",
     "text": [
      "C:\\Users\\dunga\\AppData\\Roaming\\Python\\Python311\\site-packages\\torch\\nn\\modules\\loss.py:535: UserWarning: Using a target size (torch.Size([1000])) that is different to the input size (torch.Size([1000, 1])). This will likely lead to incorrect results due to broadcasting. Please ensure they have the same size.\n",
      "  return F.mse_loss(input, target, reduction=self.reduction)\n"
     ]
    },
    {
     "name": "stdout",
     "output_type": "stream",
     "text": [
      "Epoch: 1, Loss: 0.37431880831718445\n",
      "Epoch: 2, Loss: 0.36997824907302856\n",
      "Epoch: 3, Loss: 0.36570507287979126\n",
      "Epoch: 4, Loss: 0.3614991307258606\n",
      "Epoch: 5, Loss: 0.3573595881462097\n",
      "Epoch: 6, Loss: 0.35328438878059387\n",
      "Epoch: 7, Loss: 0.34927257895469666\n",
      "Epoch: 8, Loss: 0.345323383808136\n",
      "Epoch: 9, Loss: 0.34143492579460144\n",
      "Epoch: 10, Loss: 0.337606817483902\n",
      "Epoch: 11, Loss: 0.33383798599243164\n",
      "Epoch: 12, Loss: 0.33012697100639343\n",
      "Epoch: 13, Loss: 0.3264731466770172\n",
      "Epoch: 14, Loss: 0.32287541031837463\n",
      "Epoch: 15, Loss: 0.3193325102329254\n",
      "Epoch: 16, Loss: 0.3158436417579651\n",
      "Epoch: 17, Loss: 0.3124080002307892\n",
      "Epoch: 18, Loss: 0.3090249001979828\n",
      "Epoch: 19, Loss: 0.3056935966014862\n",
      "Epoch: 20, Loss: 0.3024137616157532\n",
      "Epoch: 21, Loss: 0.29918450117111206\n",
      "Epoch: 22, Loss: 0.29600468277931213\n",
      "Epoch: 23, Loss: 0.2928730547428131\n",
      "Epoch: 24, Loss: 0.28978875279426575\n",
      "Epoch: 25, Loss: 0.28675124049186707\n",
      "Epoch: 26, Loss: 0.28376007080078125\n",
      "Epoch: 27, Loss: 0.28081411123275757\n",
      "Epoch: 28, Loss: 0.2779126465320587\n",
      "Epoch: 29, Loss: 0.27505457401275635\n",
      "Epoch: 30, Loss: 0.27223917841911316\n",
      "Epoch: 31, Loss: 0.26946622133255005\n",
      "Epoch: 32, Loss: 0.2667349874973297\n",
      "Epoch: 33, Loss: 0.26404479146003723\n",
      "Epoch: 34, Loss: 0.261394739151001\n",
      "Epoch: 35, Loss: 0.2587846517562866\n",
      "Epoch: 36, Loss: 0.2562137544155121\n",
      "Epoch: 37, Loss: 0.25368112325668335\n",
      "Epoch: 38, Loss: 0.2511865496635437\n",
      "Epoch: 39, Loss: 0.24872949719429016\n",
      "Epoch: 40, Loss: 0.2463093400001526\n",
      "Epoch: 41, Loss: 0.24392536282539368\n",
      "Epoch: 42, Loss: 0.24157729744911194\n",
      "Epoch: 43, Loss: 0.23926427960395813\n",
      "Epoch: 44, Loss: 0.23698584735393524\n",
      "Epoch: 45, Loss: 0.23474162817001343\n",
      "Epoch: 46, Loss: 0.23253105580806732\n",
      "Epoch: 47, Loss: 0.23035360872745514\n",
      "Epoch: 48, Loss: 0.22820889949798584\n",
      "Epoch: 49, Loss: 0.22609639167785645\n",
      "Epoch: 50, Loss: 0.2240154892206192\n",
      "Epoch: 51, Loss: 0.22196589410305023\n",
      "Epoch: 52, Loss: 0.21994689106941223\n",
      "Epoch: 53, Loss: 0.21795828640460968\n",
      "Epoch: 54, Loss: 0.21599942445755005\n",
      "Epoch: 55, Loss: 0.2140699177980423\n",
      "Epoch: 56, Loss: 0.21216943860054016\n",
      "Epoch: 57, Loss: 0.21029752492904663\n",
      "Epoch: 58, Loss: 0.2084537148475647\n",
      "Epoch: 59, Loss: 0.20663756132125854\n",
      "Epoch: 60, Loss: 0.2048487514257431\n",
      "Epoch: 61, Loss: 0.20308683812618256\n",
      "Epoch: 62, Loss: 0.2013513147830963\n",
      "Epoch: 63, Loss: 0.19964182376861572\n",
      "Epoch: 64, Loss: 0.1979580968618393\n",
      "Epoch: 65, Loss: 0.1962995082139969\n",
      "Epoch: 66, Loss: 0.1946658492088318\n",
      "Epoch: 67, Loss: 0.19305656850337982\n",
      "Epoch: 68, Loss: 0.19147148728370667\n",
      "Epoch: 69, Loss: 0.1899101883172989\n",
      "Epoch: 70, Loss: 0.18837234377861023\n",
      "Epoch: 71, Loss: 0.1868576556444168\n",
      "Epoch: 72, Loss: 0.18536575138568878\n",
      "Epoch: 73, Loss: 0.18389634788036346\n",
      "Epoch: 74, Loss: 0.1824490875005722\n",
      "Epoch: 75, Loss: 0.18102364242076874\n",
      "Epoch: 76, Loss: 0.17961981892585754\n",
      "Epoch: 77, Loss: 0.17823724448680878\n",
      "Epoch: 78, Loss: 0.17687559127807617\n",
      "Epoch: 79, Loss: 0.17553457617759705\n",
      "Epoch: 80, Loss: 0.17421390116214752\n",
      "Epoch: 81, Loss: 0.17291319370269775\n",
      "Epoch: 82, Loss: 0.1716322898864746\n",
      "Epoch: 83, Loss: 0.17037087678909302\n",
      "Epoch: 84, Loss: 0.16912856698036194\n",
      "Epoch: 85, Loss: 0.1679050326347351\n",
      "Epoch: 86, Loss: 0.1667000949382782\n",
      "Epoch: 87, Loss: 0.16551350057125092\n",
      "Epoch: 88, Loss: 0.16434510052204132\n",
      "Epoch: 89, Loss: 0.16319453716278076\n",
      "Epoch: 90, Loss: 0.16206149756908417\n",
      "Epoch: 91, Loss: 0.16094578802585602\n",
      "Epoch: 92, Loss: 0.15984709560871124\n",
      "Epoch: 93, Loss: 0.15876515209674835\n",
      "Epoch: 94, Loss: 0.15769974887371063\n",
      "Epoch: 95, Loss: 0.15665066242218018\n",
      "Epoch: 96, Loss: 0.1556176245212555\n",
      "Epoch: 97, Loss: 0.15460044145584106\n",
      "Epoch: 98, Loss: 0.1535988450050354\n",
      "Epoch: 99, Loss: 0.1526126265525818\n",
      "Epoch: 100, Loss: 0.15164150297641754\n",
      "Epoch: 101, Loss: 0.15068528056144714\n",
      "Epoch: 102, Loss: 0.14974378049373627\n",
      "Epoch: 103, Loss: 0.1488167643547058\n",
      "Epoch: 104, Loss: 0.14790406823158264\n",
      "Epoch: 105, Loss: 0.14700540900230408\n",
      "Epoch: 106, Loss: 0.1461205929517746\n",
      "Epoch: 107, Loss: 0.14524948596954346\n",
      "Epoch: 108, Loss: 0.14439186453819275\n",
      "Epoch: 109, Loss: 0.14354747533798218\n",
      "Epoch: 110, Loss: 0.14271613955497742\n",
      "Epoch: 111, Loss: 0.14189764857292175\n",
      "Epoch: 112, Loss: 0.14109183847904205\n",
      "Epoch: 113, Loss: 0.14029857516288757\n",
      "Epoch: 114, Loss: 0.13951760530471802\n",
      "Epoch: 115, Loss: 0.13874869048595428\n",
      "Epoch: 116, Loss: 0.13799168169498444\n",
      "Epoch: 117, Loss: 0.13724642992019653\n",
      "Epoch: 118, Loss: 0.13651271164417267\n",
      "Epoch: 119, Loss: 0.13579046726226807\n",
      "Epoch: 120, Loss: 0.13507944345474243\n",
      "Epoch: 121, Loss: 0.13437946140766144\n",
      "Epoch: 122, Loss: 0.13369044661521912\n",
      "Epoch: 123, Loss: 0.13301216065883636\n",
      "Epoch: 124, Loss: 0.13234449923038483\n",
      "Epoch: 125, Loss: 0.1316872537136078\n",
      "Epoch: 126, Loss: 0.13104036450386047\n",
      "Epoch: 127, Loss: 0.13040363788604736\n",
      "Epoch: 128, Loss: 0.12977689504623413\n",
      "Epoch: 129, Loss: 0.12916003167629242\n",
      "Epoch: 130, Loss: 0.1285528987646103\n",
      "Epoch: 131, Loss: 0.127955362200737\n",
      "Epoch: 132, Loss: 0.12736722826957703\n",
      "Epoch: 133, Loss: 0.12678839266300201\n",
      "Epoch: 134, Loss: 0.12621870636940002\n",
      "Epoch: 135, Loss: 0.12565800547599792\n",
      "Epoch: 136, Loss: 0.12510618567466736\n",
      "Epoch: 137, Loss: 0.12456310540437698\n",
      "Epoch: 138, Loss: 0.12402862310409546\n",
      "Epoch: 139, Loss: 0.12350260466337204\n",
      "Epoch: 140, Loss: 0.12298490852117538\n",
      "Epoch: 141, Loss: 0.12247545272111893\n",
      "Epoch: 142, Loss: 0.12197412550449371\n",
      "Epoch: 143, Loss: 0.1214808002114296\n",
      "Epoch: 144, Loss: 0.12099535763263702\n",
      "Epoch: 145, Loss: 0.12051767110824585\n",
      "Epoch: 146, Loss: 0.12004762142896652\n",
      "Epoch: 147, Loss: 0.1195850670337677\n",
      "Epoch: 148, Loss: 0.11912988871335983\n",
      "Epoch: 149, Loss: 0.11868194490671158\n",
      "Epoch: 150, Loss: 0.11824116855859756\n",
      "Epoch: 151, Loss: 0.11780746281147003\n",
      "Epoch: 152, Loss: 0.11738067865371704\n",
      "Epoch: 153, Loss: 0.11696073412895203\n",
      "Epoch: 154, Loss: 0.11654754728078842\n",
      "Epoch: 155, Loss: 0.11614098399877548\n",
      "Epoch: 156, Loss: 0.11574092507362366\n",
      "Epoch: 157, Loss: 0.11534728854894638\n",
      "Epoch: 158, Loss: 0.11495999991893768\n",
      "Epoch: 159, Loss: 0.11457895487546921\n",
      "Epoch: 160, Loss: 0.11420406401157379\n",
      "Epoch: 161, Loss: 0.11383520066738129\n",
      "Epoch: 162, Loss: 0.11347229778766632\n",
      "Epoch: 163, Loss: 0.11311525106430054\n",
      "Epoch: 164, Loss: 0.11276399344205856\n",
      "Epoch: 165, Loss: 0.11241842061281204\n",
      "Epoch: 166, Loss: 0.11207845062017441\n",
      "Epoch: 167, Loss: 0.1117439866065979\n",
      "Epoch: 168, Loss: 0.11141495406627655\n",
      "Epoch: 169, Loss: 0.11109129339456558\n",
      "Epoch: 170, Loss: 0.11077288538217545\n",
      "Epoch: 171, Loss: 0.11045967042446136\n",
      "Epoch: 172, Loss: 0.11015152186155319\n",
      "Epoch: 173, Loss: 0.10984842479228973\n",
      "Epoch: 174, Loss: 0.10955026000738144\n",
      "Epoch: 175, Loss: 0.10925696790218353\n",
      "Epoch: 176, Loss: 0.10896848142147064\n",
      "Epoch: 177, Loss: 0.1086847186088562\n",
      "Epoch: 178, Loss: 0.10840559005737305\n",
      "Epoch: 179, Loss: 0.1081310287117958\n",
      "Epoch: 180, Loss: 0.1078609824180603\n",
      "Epoch: 181, Loss: 0.10759536176919937\n",
      "Epoch: 182, Loss: 0.10733409225940704\n",
      "Epoch: 183, Loss: 0.10707709193229675\n",
      "Epoch: 184, Loss: 0.10682432353496552\n",
      "Epoch: 185, Loss: 0.10657570511102676\n",
      "Epoch: 186, Loss: 0.10633117705583572\n",
      "Epoch: 187, Loss: 0.10609067231416702\n",
      "Epoch: 188, Loss: 0.10585411638021469\n",
      "Epoch: 189, Loss: 0.10562147200107574\n",
      "Epoch: 190, Loss: 0.10539265722036362\n",
      "Epoch: 191, Loss: 0.10516761243343353\n",
      "Epoch: 192, Loss: 0.10494627803564072\n",
      "Epoch: 193, Loss: 0.1047285944223404\n",
      "Epoch: 194, Loss: 0.10451451689004898\n",
      "Epoch: 195, Loss: 0.10430396348237991\n",
      "Epoch: 196, Loss: 0.1040969043970108\n",
      "Epoch: 197, Loss: 0.10389326512813568\n",
      "Epoch: 198, Loss: 0.10369301587343216\n",
      "Epoch: 199, Loss: 0.10349609702825546\n",
      "Epoch: 200, Loss: 0.10330243408679962\n",
      "Epoch: 201, Loss: 0.10311199724674225\n",
      "Epoch: 202, Loss: 0.10292471945285797\n",
      "Epoch: 203, Loss: 0.10274055600166321\n",
      "Epoch: 204, Loss: 0.10255947709083557\n",
      "Epoch: 205, Loss: 0.10238140821456909\n",
      "Epoch: 206, Loss: 0.10220629721879959\n",
      "Epoch: 207, Loss: 0.10203412175178528\n",
      "Epoch: 208, Loss: 0.10186482965946198\n",
      "Epoch: 209, Loss: 0.10169834643602371\n",
      "Epoch: 210, Loss: 0.1015346422791481\n",
      "Epoch: 211, Loss: 0.10137367993593216\n",
      "Epoch: 212, Loss: 0.1012154072523117\n",
      "Epoch: 213, Loss: 0.10105977207422256\n",
      "Epoch: 214, Loss: 0.10090673714876175\n",
      "Epoch: 215, Loss: 0.10075626522302628\n",
      "Epoch: 216, Loss: 0.10060831904411316\n",
      "Epoch: 217, Loss: 0.10046286135911942\n",
      "Epoch: 218, Loss: 0.10031982511281967\n",
      "Epoch: 219, Loss: 0.10017920285463333\n",
      "Epoch: 220, Loss: 0.10004094988107681\n",
      "Epoch: 221, Loss: 0.09990501403808594\n",
      "Epoch: 222, Loss: 0.09977137297391891\n",
      "Epoch: 223, Loss: 0.09963998198509216\n",
      "Epoch: 224, Loss: 0.0995107889175415\n",
      "Epoch: 225, Loss: 0.09938377887010574\n",
      "Epoch: 226, Loss: 0.0992589145898819\n",
      "Epoch: 227, Loss: 0.09913615882396698\n",
      "Epoch: 228, Loss: 0.09901546686887741\n",
      "Epoch: 229, Loss: 0.0988968163728714\n",
      "Epoch: 230, Loss: 0.09878017008304596\n",
      "Epoch: 231, Loss: 0.0986654981970787\n",
      "Epoch: 232, Loss: 0.09855274856090546\n",
      "Epoch: 233, Loss: 0.09844190627336502\n",
      "Epoch: 234, Loss: 0.09833293408155441\n",
      "Epoch: 235, Loss: 0.09822582453489304\n",
      "Epoch: 236, Loss: 0.09812052547931671\n",
      "Epoch: 237, Loss: 0.09801699966192245\n",
      "Epoch: 238, Loss: 0.09791523218154907\n",
      "Epoch: 239, Loss: 0.09781520068645477\n",
      "Epoch: 240, Loss: 0.09771686047315598\n",
      "Epoch: 241, Loss: 0.09762019664049149\n",
      "Epoch: 242, Loss: 0.09752515703439713\n",
      "Epoch: 243, Loss: 0.0974317416548729\n",
      "Epoch: 244, Loss: 0.0973399206995964\n",
      "Epoch: 245, Loss: 0.09724964946508408\n",
      "Epoch: 246, Loss: 0.09716091305017471\n",
      "Epoch: 247, Loss: 0.09707370400428772\n",
      "Epoch: 248, Loss: 0.09698797017335892\n",
      "Epoch: 249, Loss: 0.09690369665622711\n",
      "Epoch: 250, Loss: 0.09682086110115051\n",
      "Epoch: 251, Loss: 0.09673942625522614\n",
      "Epoch: 252, Loss: 0.09665939956903458\n",
      "Epoch: 253, Loss: 0.09658072888851166\n",
      "Epoch: 254, Loss: 0.09650339186191559\n",
      "Epoch: 255, Loss: 0.09642738103866577\n",
      "Epoch: 256, Loss: 0.09635266661643982\n",
      "Epoch: 257, Loss: 0.09627921879291534\n",
      "Epoch: 258, Loss: 0.09620703011751175\n",
      "Epoch: 259, Loss: 0.09613607823848724\n",
      "Epoch: 260, Loss: 0.09606634080410004\n",
      "Epoch: 261, Loss: 0.09599778801202774\n",
      "Epoch: 262, Loss: 0.09593041241168976\n",
      "Epoch: 263, Loss: 0.0958641842007637\n",
      "Epoch: 264, Loss: 0.09579910337924957\n",
      "Epoch: 265, Loss: 0.09573512524366379\n",
      "Epoch: 266, Loss: 0.09567224979400635\n",
      "Epoch: 267, Loss: 0.09561045467853546\n",
      "Epoch: 268, Loss: 0.09554970264434814\n",
      "Epoch: 269, Loss: 0.095490001142025\n",
      "Epoch: 270, Loss: 0.09543132781982422\n",
      "Epoch: 271, Loss: 0.09537365287542343\n",
      "Epoch: 272, Loss: 0.09531696885824203\n",
      "Epoch: 273, Loss: 0.09526126831769943\n",
      "Epoch: 274, Loss: 0.09520649909973145\n",
      "Epoch: 275, Loss: 0.09515270590782166\n",
      "Epoch: 276, Loss: 0.0950998067855835\n",
      "Epoch: 277, Loss: 0.09504781663417816\n",
      "Epoch: 278, Loss: 0.09499673545360565\n",
      "Epoch: 279, Loss: 0.09494652599096298\n",
      "Epoch: 280, Loss: 0.09489717334508896\n",
      "Epoch: 281, Loss: 0.09484866261482239\n",
      "Epoch: 282, Loss: 0.09480100125074387\n",
      "Epoch: 283, Loss: 0.094754159450531\n",
      "Epoch: 284, Loss: 0.09470811486244202\n",
      "Epoch: 285, Loss: 0.0946628674864769\n",
      "Epoch: 286, Loss: 0.09461839497089386\n",
      "Epoch: 287, Loss: 0.0945746973156929\n",
      "Epoch: 288, Loss: 0.09453173726797104\n",
      "Epoch: 289, Loss: 0.09448952972888947\n",
      "Epoch: 290, Loss: 0.0944480448961258\n",
      "Epoch: 291, Loss: 0.09440726786851883\n",
      "Epoch: 292, Loss: 0.09436720609664917\n",
      "Epoch: 293, Loss: 0.09432782977819443\n",
      "Epoch: 294, Loss: 0.0942891389131546\n",
      "Epoch: 295, Loss: 0.0942511036992073\n",
      "Epoch: 296, Loss: 0.09421372413635254\n",
      "Epoch: 297, Loss: 0.0941770002245903\n",
      "Epoch: 298, Loss: 0.0941409096121788\n",
      "Epoch: 299, Loss: 0.09410543739795685\n",
      "Epoch: 300, Loss: 0.09407056868076324\n"
     ]
    }
   ],
   "source": [
    "loss_history = []\n",
    "for i in range(300):\n",
    "    opt.zero_grad()\n",
    "    loss_value = loss_func(mynet(X),Y)\n",
    "    loss_value.backward()\n",
    "    opt.step()\n",
    "    loss_history.append(loss_value.item())\n",
    "    print(f\"Epoch: {i+1}, Loss: {loss_value.item()}\")"
   ]
  },
  {
   "cell_type": "code",
   "execution_count": 12,
   "id": "c5f60034",
   "metadata": {},
   "outputs": [
    {
     "data": {
      "text/plain": [
       "Text(0, 0.5, 'loss value')"
      ]
     },
     "execution_count": 12,
     "metadata": {},
     "output_type": "execute_result"
    },
    {
     "data": {
      "image/png": "[encoded data removed]",
      "text/plain": [
       "<Figure size 640x480 with 1 Axes>"
      ]
     },
     "metadata": {},
     "output_type": "display_data"
    }
   ],
   "source": [
    "import matplotlib.pyplot as plt\n",
    "%matplotlib inline\n",
    "plt.plot(loss_history)\n",
    "plt.title('Loss variation over increasing epochs')\n",
    "plt.xlabel('epochs')\n",
    "plt.ylabel('loss value')"
   ]
  },
  {
   "cell_type": "code",
   "execution_count": null,
   "id": "827f7980",
   "metadata": {},
   "outputs": [],
   "source": []
  }
 ],
 "metadata": {
  "kernelspec": {
   "display_name": "Python 3 (ipykernel)",
   "language": "python",
   "name": "python3"
  },
  "language_info": {
   "codemirror_mode": {
    "name": "ipython",
    "version": 3
   },
   "file_extension": ".py",
   "mimetype": "text/x-python",
   "name": "python",
   "nbconvert_exporter": "python",
   "pygments_lexer": "ipython3",
   "version": "3.11.3"
  }
 },
 "nbformat": 4,
 "nbformat_minor": 5
}
